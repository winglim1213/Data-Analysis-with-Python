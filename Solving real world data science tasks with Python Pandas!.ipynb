{
 "cells": [
  {
   "cell_type": "markdown",
   "metadata": {},
   "source": [
    "# Sales Analysis"
   ]
  },
  {
   "cell_type": "code",
   "execution_count": 1,
   "metadata": {},
   "outputs": [],
   "source": [
    "#Disclaimer: This project is done with the assistant of 'Solving real world data science tasks with Python Pandas!'\n",
    "#youtube link: https://www.youtube.com/watch?v=eMOA1pPVUc4\n",
    "#The data are created by author, not from real world data\n",
    "#Some additional features and amendments are made by William Wong \n",
    "#This analysis will be further analyzed using tableau"
   ]
  },
  {
   "cell_type": "markdown",
   "metadata": {},
   "source": [
    "Import Necessary Library"
   ]
  },
  {
   "cell_type": "code",
   "execution_count": 2,
   "metadata": {},
   "outputs": [],
   "source": [
    "import pandas as pd\n",
    "import os "
   ]
  },
  {
   "cell_type": "markdown",
   "metadata": {},
   "source": [
    "## Task 0: Merging 12 months of sales data into a single file"
   ]
  },
  {
   "cell_type": "markdown",
   "metadata": {},
   "source": [
    "### Reading the data"
   ]
  },
  {
   "cell_type": "code",
   "execution_count": 3,
   "metadata": {},
   "outputs": [],
   "source": [
    "files = [file for file in os.listdir(r'C:\\Users\\Plko\\Jupyter_Notebook\\Youtube\\Solving real world data science tasks with Python Pandas!\\Pandas-Data-Science-Tasks\\SalesAnalysis\\Sales_Data')]\n",
    "all_months_data = pd.DataFrame()\n",
    "\n",
    "for file in files:\n",
    "    sales_data=pd.read_csv('C:/Users/Plko/Jupyter_Notebook/Youtube/Solving real world data science tasks with Python Pandas!/Pandas-Data-Science-Tasks/SalesAnalysis/Sales_Data/'+ file)\n",
    "    all_months_data = pd.concat([all_months_data,sales_data])\n",
    "    \n",
    "all_months_data.to_csv('all_months_data.csv', index=False)"
   ]
  },
  {
   "cell_type": "markdown",
   "metadata": {},
   "source": [
    "#### Read in the merged dataframe"
   ]
  },
  {
   "cell_type": "code",
   "execution_count": 4,
   "metadata": {
    "scrolled": true
   },
   "outputs": [
    {
     "data": {
      "text/html": [
       "<div>\n",
       "<style scoped>\n",
       "    .dataframe tbody tr th:only-of-type {\n",
       "        vertical-align: middle;\n",
       "    }\n",
       "\n",
       "    .dataframe tbody tr th {\n",
       "        vertical-align: top;\n",
       "    }\n",
       "\n",
       "    .dataframe thead th {\n",
       "        text-align: right;\n",
       "    }\n",
       "</style>\n",
       "<table border=\"1\" class=\"dataframe\">\n",
       "  <thead>\n",
       "    <tr style=\"text-align: right;\">\n",
       "      <th></th>\n",
       "      <th>Order ID</th>\n",
       "      <th>Product</th>\n",
       "      <th>Quantity Ordered</th>\n",
       "      <th>Price Each</th>\n",
       "      <th>Order Date</th>\n",
       "      <th>Purchase Address</th>\n",
       "    </tr>\n",
       "  </thead>\n",
       "  <tbody>\n",
       "    <tr>\n",
       "      <th>0</th>\n",
       "      <td>176558</td>\n",
       "      <td>USB-C Charging Cable</td>\n",
       "      <td>2</td>\n",
       "      <td>11.95</td>\n",
       "      <td>04/19/19 08:46</td>\n",
       "      <td>917 1st St, Dallas, TX 75001</td>\n",
       "    </tr>\n",
       "    <tr>\n",
       "      <th>1</th>\n",
       "      <td>NaN</td>\n",
       "      <td>NaN</td>\n",
       "      <td>NaN</td>\n",
       "      <td>NaN</td>\n",
       "      <td>NaN</td>\n",
       "      <td>NaN</td>\n",
       "    </tr>\n",
       "    <tr>\n",
       "      <th>2</th>\n",
       "      <td>176559</td>\n",
       "      <td>Bose SoundSport Headphones</td>\n",
       "      <td>1</td>\n",
       "      <td>99.99</td>\n",
       "      <td>04/07/19 22:30</td>\n",
       "      <td>682 Chestnut St, Boston, MA 02215</td>\n",
       "    </tr>\n",
       "    <tr>\n",
       "      <th>3</th>\n",
       "      <td>176560</td>\n",
       "      <td>Google Phone</td>\n",
       "      <td>1</td>\n",
       "      <td>600</td>\n",
       "      <td>04/12/19 14:38</td>\n",
       "      <td>669 Spruce St, Los Angeles, CA 90001</td>\n",
       "    </tr>\n",
       "    <tr>\n",
       "      <th>4</th>\n",
       "      <td>176560</td>\n",
       "      <td>Wired Headphones</td>\n",
       "      <td>1</td>\n",
       "      <td>11.99</td>\n",
       "      <td>04/12/19 14:38</td>\n",
       "      <td>669 Spruce St, Los Angeles, CA 90001</td>\n",
       "    </tr>\n",
       "  </tbody>\n",
       "</table>\n",
       "</div>"
      ],
      "text/plain": [
       "  Order ID                     Product Quantity Ordered Price Each  \\\n",
       "0   176558        USB-C Charging Cable                2      11.95   \n",
       "1      NaN                         NaN              NaN        NaN   \n",
       "2   176559  Bose SoundSport Headphones                1      99.99   \n",
       "3   176560                Google Phone                1        600   \n",
       "4   176560            Wired Headphones                1      11.99   \n",
       "\n",
       "       Order Date                      Purchase Address  \n",
       "0  04/19/19 08:46          917 1st St, Dallas, TX 75001  \n",
       "1             NaN                                   NaN  \n",
       "2  04/07/19 22:30     682 Chestnut St, Boston, MA 02215  \n",
       "3  04/12/19 14:38  669 Spruce St, Los Angeles, CA 90001  \n",
       "4  04/12/19 14:38  669 Spruce St, Los Angeles, CA 90001  "
      ]
     },
     "execution_count": 4,
     "metadata": {},
     "output_type": "execute_result"
    }
   ],
   "source": [
    "all_data = pd.read_csv(r\"C:\\Users\\Plko\\Jupyter_Notebook\\Youtube\\Solving real world data science tasks with Python Pandas!\\Pandas-Data-Science-Tasks\\all_months_data.csv\")\n",
    "all_data.head()"
   ]
  },
  {
   "cell_type": "markdown",
   "metadata": {},
   "source": [
    "### Data Cleansing"
   ]
  },
  {
   "cell_type": "markdown",
   "metadata": {},
   "source": [
    "#### Drop rows of NaN"
   ]
  },
  {
   "cell_type": "code",
   "execution_count": 5,
   "metadata": {},
   "outputs": [
    {
     "data": {
      "text/html": [
       "<div>\n",
       "<style scoped>\n",
       "    .dataframe tbody tr th:only-of-type {\n",
       "        vertical-align: middle;\n",
       "    }\n",
       "\n",
       "    .dataframe tbody tr th {\n",
       "        vertical-align: top;\n",
       "    }\n",
       "\n",
       "    .dataframe thead th {\n",
       "        text-align: right;\n",
       "    }\n",
       "</style>\n",
       "<table border=\"1\" class=\"dataframe\">\n",
       "  <thead>\n",
       "    <tr style=\"text-align: right;\">\n",
       "      <th></th>\n",
       "      <th>Order ID</th>\n",
       "      <th>Product</th>\n",
       "      <th>Quantity Ordered</th>\n",
       "      <th>Price Each</th>\n",
       "      <th>Order Date</th>\n",
       "      <th>Purchase Address</th>\n",
       "    </tr>\n",
       "  </thead>\n",
       "  <tbody>\n",
       "    <tr>\n",
       "      <th>1</th>\n",
       "      <td>NaN</td>\n",
       "      <td>NaN</td>\n",
       "      <td>NaN</td>\n",
       "      <td>NaN</td>\n",
       "      <td>NaN</td>\n",
       "      <td>NaN</td>\n",
       "    </tr>\n",
       "    <tr>\n",
       "      <th>356</th>\n",
       "      <td>NaN</td>\n",
       "      <td>NaN</td>\n",
       "      <td>NaN</td>\n",
       "      <td>NaN</td>\n",
       "      <td>NaN</td>\n",
       "      <td>NaN</td>\n",
       "    </tr>\n",
       "    <tr>\n",
       "      <th>735</th>\n",
       "      <td>NaN</td>\n",
       "      <td>NaN</td>\n",
       "      <td>NaN</td>\n",
       "      <td>NaN</td>\n",
       "      <td>NaN</td>\n",
       "      <td>NaN</td>\n",
       "    </tr>\n",
       "    <tr>\n",
       "      <th>1433</th>\n",
       "      <td>NaN</td>\n",
       "      <td>NaN</td>\n",
       "      <td>NaN</td>\n",
       "      <td>NaN</td>\n",
       "      <td>NaN</td>\n",
       "      <td>NaN</td>\n",
       "    </tr>\n",
       "    <tr>\n",
       "      <th>1553</th>\n",
       "      <td>NaN</td>\n",
       "      <td>NaN</td>\n",
       "      <td>NaN</td>\n",
       "      <td>NaN</td>\n",
       "      <td>NaN</td>\n",
       "      <td>NaN</td>\n",
       "    </tr>\n",
       "  </tbody>\n",
       "</table>\n",
       "</div>"
      ],
      "text/plain": [
       "     Order ID Product Quantity Ordered Price Each Order Date Purchase Address\n",
       "1         NaN     NaN              NaN        NaN        NaN              NaN\n",
       "356       NaN     NaN              NaN        NaN        NaN              NaN\n",
       "735       NaN     NaN              NaN        NaN        NaN              NaN\n",
       "1433      NaN     NaN              NaN        NaN        NaN              NaN\n",
       "1553      NaN     NaN              NaN        NaN        NaN              NaN"
      ]
     },
     "execution_count": 5,
     "metadata": {},
     "output_type": "execute_result"
    }
   ],
   "source": [
    "# Detecting the NaN\n",
    "nan_df = all_data[all_data.isna().any(axis=1)]\n",
    "nan_df.head()"
   ]
  },
  {
   "cell_type": "code",
   "execution_count": 6,
   "metadata": {},
   "outputs": [
    {
     "data": {
      "text/plain": [
       "False"
      ]
     },
     "execution_count": 6,
     "metadata": {},
     "output_type": "execute_result"
    }
   ],
   "source": [
    "# Dropping na\n",
    "all_data = all_data.dropna(axis='rows', how='any')\n",
    "# Checking whether NaN is in the DataFrame\n",
    "all_data.isna().values.any() "
   ]
  },
  {
   "cell_type": "markdown",
   "metadata": {},
   "source": [
    "#### Finding 'Or' and delete it\n"
   ]
  },
  {
   "cell_type": "code",
   "execution_count": 7,
   "metadata": {},
   "outputs": [],
   "source": [
    "# After deleting the NaN from the DF we now face the another issue where 'Or' is in the Order Date \n",
    "# ValueError: invalid literal for int() with base 10: 'Or'\n",
    "# The Or existed because we have stored the column index for each csv and retreived the Order Date (Or)\n",
    "all_data = all_data[all_data['Order Date'].str[0:2] !=  'Or']"
   ]
  },
  {
   "cell_type": "markdown",
   "metadata": {},
   "source": [
    "## Q1: What is the best month for sales? How much was earned in that month?"
   ]
  },
  {
   "cell_type": "markdown",
   "metadata": {},
   "source": [
    "### Task1.1 : Augment DataFrame with addition columns"
   ]
  },
  {
   "cell_type": "markdown",
   "metadata": {},
   "source": [
    "#### Adding a month column"
   ]
  },
  {
   "cell_type": "code",
   "execution_count": 8,
   "metadata": {},
   "outputs": [],
   "source": [
    "all_data['Month'] = all_data['Order Date'].str[0:2]\n",
    "#we now can run this cell since the 'Or' is not cleansed and no more issues are in the columns \n",
    "#all_data['Months'] = all_data['Months'].astype('int'): \n",
    "#but I will check again in the next cell for safety before running it "
   ]
  },
  {
   "cell_type": "code",
   "execution_count": 9,
   "metadata": {},
   "outputs": [
    {
     "data": {
      "text/plain": [
       "True"
      ]
     },
     "execution_count": 9,
     "metadata": {},
     "output_type": "execute_result"
    }
   ],
   "source": [
    "# Checking whether all values in the Months columns are not Or\n",
    "all_data['Month'].values.any != 'Or'"
   ]
  },
  {
   "cell_type": "markdown",
   "metadata": {},
   "source": [
    "### Transforming the Months column to int (Again!)"
   ]
  },
  {
   "cell_type": "code",
   "execution_count": 10,
   "metadata": {},
   "outputs": [],
   "source": [
    "all_data['Month'] = all_data['Month'].astype('int')"
   ]
  },
  {
   "cell_type": "markdown",
   "metadata": {},
   "source": [
    "### Task 1.2: Adding the Sales Columns for finding the month with the best sales"
   ]
  },
  {
   "cell_type": "code",
   "execution_count": 11,
   "metadata": {},
   "outputs": [
    {
     "data": {
      "text/plain": [
       "Order ID            object\n",
       "Product             object\n",
       "Quantity Ordered    object\n",
       "Price Each          object\n",
       "Order Date          object\n",
       "Purchase Address    object\n",
       "Month                int32\n",
       "dtype: object"
      ]
     },
     "execution_count": 11,
     "metadata": {},
     "output_type": "execute_result"
    }
   ],
   "source": [
    "# As we have to do the multiplication, we want to check what the data types are. \n",
    "all_data.dtypes"
   ]
  },
  {
   "cell_type": "markdown",
   "metadata": {},
   "source": [
    "### Converting Data types "
   ]
  },
  {
   "cell_type": "code",
   "execution_count": 12,
   "metadata": {},
   "outputs": [
    {
     "data": {
      "text/html": [
       "<div>\n",
       "<style scoped>\n",
       "    .dataframe tbody tr th:only-of-type {\n",
       "        vertical-align: middle;\n",
       "    }\n",
       "\n",
       "    .dataframe tbody tr th {\n",
       "        vertical-align: top;\n",
       "    }\n",
       "\n",
       "    .dataframe thead th {\n",
       "        text-align: right;\n",
       "    }\n",
       "</style>\n",
       "<table border=\"1\" class=\"dataframe\">\n",
       "  <thead>\n",
       "    <tr style=\"text-align: right;\">\n",
       "      <th></th>\n",
       "      <th>Order ID</th>\n",
       "      <th>Product</th>\n",
       "      <th>Quantity Ordered</th>\n",
       "      <th>Price Each</th>\n",
       "      <th>Order Date</th>\n",
       "      <th>Purchase Address</th>\n",
       "      <th>Month</th>\n",
       "      <th>Sales</th>\n",
       "    </tr>\n",
       "  </thead>\n",
       "  <tbody>\n",
       "    <tr>\n",
       "      <th>0</th>\n",
       "      <td>176558</td>\n",
       "      <td>USB-C Charging Cable</td>\n",
       "      <td>2</td>\n",
       "      <td>11.95</td>\n",
       "      <td>04/19/19 08:46</td>\n",
       "      <td>917 1st St, Dallas, TX 75001</td>\n",
       "      <td>4</td>\n",
       "      <td>23.90</td>\n",
       "    </tr>\n",
       "    <tr>\n",
       "      <th>2</th>\n",
       "      <td>176559</td>\n",
       "      <td>Bose SoundSport Headphones</td>\n",
       "      <td>1</td>\n",
       "      <td>99.99</td>\n",
       "      <td>04/07/19 22:30</td>\n",
       "      <td>682 Chestnut St, Boston, MA 02215</td>\n",
       "      <td>4</td>\n",
       "      <td>99.99</td>\n",
       "    </tr>\n",
       "    <tr>\n",
       "      <th>3</th>\n",
       "      <td>176560</td>\n",
       "      <td>Google Phone</td>\n",
       "      <td>1</td>\n",
       "      <td>600.00</td>\n",
       "      <td>04/12/19 14:38</td>\n",
       "      <td>669 Spruce St, Los Angeles, CA 90001</td>\n",
       "      <td>4</td>\n",
       "      <td>600.00</td>\n",
       "    </tr>\n",
       "    <tr>\n",
       "      <th>4</th>\n",
       "      <td>176560</td>\n",
       "      <td>Wired Headphones</td>\n",
       "      <td>1</td>\n",
       "      <td>11.99</td>\n",
       "      <td>04/12/19 14:38</td>\n",
       "      <td>669 Spruce St, Los Angeles, CA 90001</td>\n",
       "      <td>4</td>\n",
       "      <td>11.99</td>\n",
       "    </tr>\n",
       "    <tr>\n",
       "      <th>5</th>\n",
       "      <td>176561</td>\n",
       "      <td>Wired Headphones</td>\n",
       "      <td>1</td>\n",
       "      <td>11.99</td>\n",
       "      <td>04/30/19 09:27</td>\n",
       "      <td>333 8th St, Los Angeles, CA 90001</td>\n",
       "      <td>4</td>\n",
       "      <td>11.99</td>\n",
       "    </tr>\n",
       "  </tbody>\n",
       "</table>\n",
       "</div>"
      ],
      "text/plain": [
       "  Order ID                     Product  Quantity Ordered  Price Each  \\\n",
       "0   176558        USB-C Charging Cable                 2       11.95   \n",
       "2   176559  Bose SoundSport Headphones                 1       99.99   \n",
       "3   176560                Google Phone                 1      600.00   \n",
       "4   176560            Wired Headphones                 1       11.99   \n",
       "5   176561            Wired Headphones                 1       11.99   \n",
       "\n",
       "       Order Date                      Purchase Address  Month   Sales  \n",
       "0  04/19/19 08:46          917 1st St, Dallas, TX 75001      4   23.90  \n",
       "2  04/07/19 22:30     682 Chestnut St, Boston, MA 02215      4   99.99  \n",
       "3  04/12/19 14:38  669 Spruce St, Los Angeles, CA 90001      4  600.00  \n",
       "4  04/12/19 14:38  669 Spruce St, Los Angeles, CA 90001      4   11.99  \n",
       "5  04/30/19 09:27     333 8th St, Los Angeles, CA 90001      4   11.99  "
      ]
     },
     "execution_count": 12,
     "metadata": {},
     "output_type": "execute_result"
    }
   ],
   "source": [
    "# These also work\n",
    "# all_data['Quantity Ordered'] = all_data['Quantity Ordered'].astype('float')\n",
    "# all_data['Price Each'] = all_data['Price Each'].astype('float')\n",
    "\n",
    "# to_numeric is generally better if you want to adjust the data types\n",
    "all_data['Quantity Ordered'] = pd.to_numeric(all_data['Quantity Ordered'])\n",
    "all_data['Price Each'] = pd.to_numeric(all_data['Price Each'])\n",
    "\n",
    "all_data['Sales'] = all_data['Quantity Ordered'] * all_data['Price Each']\n",
    "all_data.head()"
   ]
  },
  {
   "cell_type": "markdown",
   "metadata": {},
   "source": [
    "## Answering the Question! (Finally!)"
   ]
  },
  {
   "cell_type": "code",
   "execution_count": 13,
   "metadata": {},
   "outputs": [],
   "source": [
    "Sales_Month = all_data.groupby('Month').sum()['Sales']"
   ]
  },
  {
   "cell_type": "code",
   "execution_count": 14,
   "metadata": {},
   "outputs": [
    {
     "data": {
      "text/plain": [
       "Month\n",
       "1     1.822257e+06\n",
       "2     2.202022e+06\n",
       "3     2.807100e+06\n",
       "4     3.390670e+06\n",
       "5     3.152607e+06\n",
       "6     2.577802e+06\n",
       "7     2.647776e+06\n",
       "8     2.244468e+06\n",
       "9     2.097560e+06\n",
       "10    3.736727e+06\n",
       "11    3.199603e+06\n",
       "12    4.613443e+06\n",
       "Name: Sales, dtype: float64"
      ]
     },
     "execution_count": 14,
     "metadata": {},
     "output_type": "execute_result"
    }
   ],
   "source": [
    "Sales_Month"
   ]
  },
  {
   "cell_type": "markdown",
   "metadata": {},
   "source": [
    "### Visualizing the results"
   ]
  },
  {
   "cell_type": "code",
   "execution_count": 15,
   "metadata": {},
   "outputs": [],
   "source": [
    "import matplotlib.pyplot as plt"
   ]
  },
  {
   "cell_type": "code",
   "execution_count": 16,
   "metadata": {},
   "outputs": [
    {
     "data": {
      "image/png": "[encoded data removed]",
      "text/plain": [
       "<Figure size 432x288 with 1 Axes>"
      ]
     },
     "metadata": {
      "needs_background": "light"
     },
     "output_type": "display_data"
    }
   ],
   "source": [
    "Month = Sales_Month.index.tolist()\n",
    "plt.bar(Month, Sales_Month)\n",
    "plt.xticks(Month)\n",
    "plt.xlabel('Month')\n",
    "plt.ylabel('Sales in USD($)')\n",
    "plt.title('Sales for each month')\n",
    "plt.show()"
   ]
  },
  {
   "cell_type": "markdown",
   "metadata": {},
   "source": [
    "From the graph we can see that Dec is the best month for sale. Christmas could be one reason (and people have to spend less due to overspending during Christmas time!)"
   ]
  },
  {
   "cell_type": "markdown",
   "metadata": {},
   "source": [
    "## Q2: Which city had the highest number of Sales"
   ]
  },
  {
   "cell_type": "markdown",
   "metadata": {},
   "source": [
    "### Augmenting DF"
   ]
  },
  {
   "cell_type": "code",
   "execution_count": 17,
   "metadata": {},
   "outputs": [
    {
     "data": {
      "text/html": [
       "<div>\n",
       "<style scoped>\n",
       "    .dataframe tbody tr th:only-of-type {\n",
       "        vertical-align: middle;\n",
       "    }\n",
       "\n",
       "    .dataframe tbody tr th {\n",
       "        vertical-align: top;\n",
       "    }\n",
       "\n",
       "    .dataframe thead th {\n",
       "        text-align: right;\n",
       "    }\n",
       "</style>\n",
       "<table border=\"1\" class=\"dataframe\">\n",
       "  <thead>\n",
       "    <tr style=\"text-align: right;\">\n",
       "      <th></th>\n",
       "      <th>Order ID</th>\n",
       "      <th>Product</th>\n",
       "      <th>Quantity Ordered</th>\n",
       "      <th>Price Each</th>\n",
       "      <th>Order Date</th>\n",
       "      <th>Purchase Address</th>\n",
       "      <th>Month</th>\n",
       "      <th>Sales</th>\n",
       "      <th>City</th>\n",
       "    </tr>\n",
       "  </thead>\n",
       "  <tbody>\n",
       "    <tr>\n",
       "      <th>0</th>\n",
       "      <td>176558</td>\n",
       "      <td>USB-C Charging Cable</td>\n",
       "      <td>2</td>\n",
       "      <td>11.95</td>\n",
       "      <td>04/19/19 08:46</td>\n",
       "      <td>917 1st St, Dallas, TX 75001</td>\n",
       "      <td>4</td>\n",
       "      <td>23.90</td>\n",
       "      <td>Dallas (TX)</td>\n",
       "    </tr>\n",
       "    <tr>\n",
       "      <th>2</th>\n",
       "      <td>176559</td>\n",
       "      <td>Bose SoundSport Headphones</td>\n",
       "      <td>1</td>\n",
       "      <td>99.99</td>\n",
       "      <td>04/07/19 22:30</td>\n",
       "      <td>682 Chestnut St, Boston, MA 02215</td>\n",
       "      <td>4</td>\n",
       "      <td>99.99</td>\n",
       "      <td>Boston (MA)</td>\n",
       "    </tr>\n",
       "    <tr>\n",
       "      <th>3</th>\n",
       "      <td>176560</td>\n",
       "      <td>Google Phone</td>\n",
       "      <td>1</td>\n",
       "      <td>600.00</td>\n",
       "      <td>04/12/19 14:38</td>\n",
       "      <td>669 Spruce St, Los Angeles, CA 90001</td>\n",
       "      <td>4</td>\n",
       "      <td>600.00</td>\n",
       "      <td>Los Angeles (CA)</td>\n",
       "    </tr>\n",
       "    <tr>\n",
       "      <th>4</th>\n",
       "      <td>176560</td>\n",
       "      <td>Wired Headphones</td>\n",
       "      <td>1</td>\n",
       "      <td>11.99</td>\n",
       "      <td>04/12/19 14:38</td>\n",
       "      <td>669 Spruce St, Los Angeles, CA 90001</td>\n",
       "      <td>4</td>\n",
       "      <td>11.99</td>\n",
       "      <td>Los Angeles (CA)</td>\n",
       "    </tr>\n",
       "    <tr>\n",
       "      <th>5</th>\n",
       "      <td>176561</td>\n",
       "      <td>Wired Headphones</td>\n",
       "      <td>1</td>\n",
       "      <td>11.99</td>\n",
       "      <td>04/30/19 09:27</td>\n",
       "      <td>333 8th St, Los Angeles, CA 90001</td>\n",
       "      <td>4</td>\n",
       "      <td>11.99</td>\n",
       "      <td>Los Angeles (CA)</td>\n",
       "    </tr>\n",
       "  </tbody>\n",
       "</table>\n",
       "</div>"
      ],
      "text/plain": [
       "  Order ID                     Product  Quantity Ordered  Price Each  \\\n",
       "0   176558        USB-C Charging Cable                 2       11.95   \n",
       "2   176559  Bose SoundSport Headphones                 1       99.99   \n",
       "3   176560                Google Phone                 1      600.00   \n",
       "4   176560            Wired Headphones                 1       11.99   \n",
       "5   176561            Wired Headphones                 1       11.99   \n",
       "\n",
       "       Order Date                      Purchase Address  Month   Sales  \\\n",
       "0  04/19/19 08:46          917 1st St, Dallas, TX 75001      4   23.90   \n",
       "2  04/07/19 22:30     682 Chestnut St, Boston, MA 02215      4   99.99   \n",
       "3  04/12/19 14:38  669 Spruce St, Los Angeles, CA 90001      4  600.00   \n",
       "4  04/12/19 14:38  669 Spruce St, Los Angeles, CA 90001      4   11.99   \n",
       "5  04/30/19 09:27     333 8th St, Los Angeles, CA 90001      4   11.99   \n",
       "\n",
       "                City  \n",
       "0        Dallas (TX)  \n",
       "2        Boston (MA)  \n",
       "3   Los Angeles (CA)  \n",
       "4   Los Angeles (CA)  \n",
       "5   Los Angeles (CA)  "
      ]
     },
     "execution_count": 17,
     "metadata": {},
     "output_type": "execute_result"
    }
   ],
   "source": [
    "def get_city (x):\n",
    "    return x.split(',')[1]\n",
    "\n",
    "def get_state_code (x):\n",
    "    return x.split(',')[2].split(' ')[1]\n",
    "all_data['City'] = all_data['Purchase Address'].apply(lambda x:f\"{get_city(x)} ({get_state_code(x)})\")\n",
    "# same as:\n",
    "#all_data['City'] = all_data['Purchase Address'].apply(lambda x: get_city(x) + ' (' + get_state_code(x) +')')\n",
    "all_data.head()"
   ]
  },
  {
   "cell_type": "markdown",
   "metadata": {},
   "source": [
    "## Answering Q2!"
   ]
  },
  {
   "cell_type": "code",
   "execution_count": 18,
   "metadata": {},
   "outputs": [],
   "source": [
    "# Grouping by the cities and Declaring necessary variables\n",
    "sales_city= all_data.groupby('City').sum()[\"Sales\"]\n",
    "# Original solution from the video (list comprehension)\n",
    "#city = [city for city, df in all_data.groupby('City')] \n",
    "# Improved version\n",
    "city = sales_city.index.tolist()"
   ]
  },
  {
   "cell_type": "code",
   "execution_count": 19,
   "metadata": {},
   "outputs": [
    {
     "data": {
      "text/plain": [
       "pandas.core.series.Series"
      ]
     },
     "execution_count": 19,
     "metadata": {},
     "output_type": "execute_result"
    }
   ],
   "source": [
    "type(sales_city)"
   ]
  },
  {
   "cell_type": "markdown",
   "metadata": {},
   "source": [
    "### Visualizing the DF"
   ]
  },
  {
   "cell_type": "code",
   "execution_count": 20,
   "metadata": {},
   "outputs": [
    {
     "data": {
      "image/png": "[encoded data removed]",
      "text/plain": [
       "<Figure size 432x288 with 1 Axes>"
      ]
     },
     "metadata": {
      "needs_background": "light"
     },
     "output_type": "display_data"
    }
   ],
   "source": [
    "plt.bar(city , sales_city)\n",
    "plt.xticks(city, rotation = 'vertical', size = 8)\n",
    "plt.xlabel('City (State Codes)')\n",
    "plt.ylabel('Sales in USD ($)')\n",
    "plt.title('Sales among Cities')\n",
    "plt.show()"
   ]
  },
  {
   "cell_type": "markdown",
   "metadata": {},
   "source": [
    "## Q3: What time should we display advertisements to maximize likelihood of customer's buying product?"
   ]
  },
  {
   "cell_type": "code",
   "execution_count": 21,
   "metadata": {},
   "outputs": [],
   "source": [
    "# Retrieving necessary columns from all_data"
   ]
  },
  {
   "cell_type": "code",
   "execution_count": 22,
   "metadata": {},
   "outputs": [],
   "source": [
    "all_data['Order Date'] = pd.to_datetime(all_data['Order Date'])"
   ]
  },
  {
   "cell_type": "code",
   "execution_count": 23,
   "metadata": {},
   "outputs": [],
   "source": [
    "#dt.hour is for a series, .hour is for a timestamp\n",
    "all_data['Hour'] = all_data['Order Date'].dt.hour\n",
    "all_data['Minute'] = all_data['Order Date'].dt.minute"
   ]
  },
  {
   "cell_type": "code",
   "execution_count": 24,
   "metadata": {},
   "outputs": [],
   "source": [
    "# Original version from the video\n",
    "#hour = [hour for hour , df in all_data.groupby('Hour')]\n",
    "# Improved version \n",
    "hour = pd.DataFrame(all_data.groupby('Hour')['Hour']).index.tolist()"
   ]
  },
  {
   "cell_type": "code",
   "execution_count": 25,
   "metadata": {},
   "outputs": [
    {
     "data": {
      "image/png": "[encoded data removed]",
      "text/plain": [
       "<Figure size 432x288 with 1 Axes>"
      ]
     },
     "metadata": {
      "needs_background": "light"
     },
     "output_type": "display_data"
    }
   ],
   "source": [
    "plt.plot(hour, all_data.groupby('Hour').count())\n",
    "plt.grid()\n",
    "plt.xticks(hour)\n",
    "plt.xlabel('Hour')\n",
    "plt.ylabel('Sales in USD ($)')\n",
    "plt.show()\n",
    "# Best hour for advertisement in a day is 11 a.m. and 7 p.m"
   ]
  },
  {
   "cell_type": "markdown",
   "metadata": {},
   "source": [
    "## Q4: What products are offen sold together?"
   ]
  },
  {
   "cell_type": "code",
   "execution_count": 26,
   "metadata": {},
   "outputs": [
    {
     "data": {
      "text/plain": [
       "5"
      ]
     },
     "execution_count": 26,
     "metadata": {},
     "output_type": "execute_result"
    }
   ],
   "source": [
    "# max No. of product a customer purchased in one order\n",
    "max(all_data.groupby('Order ID').count()['Product'])"
   ]
  },
  {
   "cell_type": "code",
   "execution_count": 27,
   "metadata": {},
   "outputs": [
    {
     "name": "stderr",
     "output_type": "stream",
     "text": [
      "C:\\Users\\Plko\\Anaconda3\\lib\\site-packages\\ipykernel_launcher.py:3: SettingWithCopyWarning: \n",
      "A value is trying to be set on a copy of a slice from a DataFrame.\n",
      "Try using .loc[row_indexer,col_indexer] = value instead\n",
      "\n",
      "See the caveats in the documentation: http://pandas.pydata.org/pandas-docs/stable/indexing.html#indexing-view-versus-copy\n",
      "  This is separate from the ipykernel package so we can avoid doing imports until\n"
     ]
    },
    {
     "data": {
      "text/html": [
       "<div>\n",
       "<style scoped>\n",
       "    .dataframe tbody tr th:only-of-type {\n",
       "        vertical-align: middle;\n",
       "    }\n",
       "\n",
       "    .dataframe tbody tr th {\n",
       "        vertical-align: top;\n",
       "    }\n",
       "\n",
       "    .dataframe thead th {\n",
       "        text-align: right;\n",
       "    }\n",
       "</style>\n",
       "<table border=\"1\" class=\"dataframe\">\n",
       "  <thead>\n",
       "    <tr style=\"text-align: right;\">\n",
       "      <th></th>\n",
       "      <th>Order ID</th>\n",
       "      <th>Grouped Product</th>\n",
       "    </tr>\n",
       "  </thead>\n",
       "  <tbody>\n",
       "    <tr>\n",
       "      <th>3</th>\n",
       "      <td>176560</td>\n",
       "      <td>Google Phone,Wired Headphones</td>\n",
       "    </tr>\n",
       "    <tr>\n",
       "      <th>18</th>\n",
       "      <td>176574</td>\n",
       "      <td>Google Phone,USB-C Charging Cable</td>\n",
       "    </tr>\n",
       "    <tr>\n",
       "      <th>30</th>\n",
       "      <td>176585</td>\n",
       "      <td>Bose SoundSport Headphones,Bose SoundSport Hea...</td>\n",
       "    </tr>\n",
       "    <tr>\n",
       "      <th>32</th>\n",
       "      <td>176586</td>\n",
       "      <td>AAA Batteries (4-pack),Google Phone</td>\n",
       "    </tr>\n",
       "    <tr>\n",
       "      <th>119</th>\n",
       "      <td>176672</td>\n",
       "      <td>Lightning Charging Cable,USB-C Charging Cable</td>\n",
       "    </tr>\n",
       "  </tbody>\n",
       "</table>\n",
       "</div>"
      ],
      "text/plain": [
       "    Order ID                                    Grouped Product\n",
       "3     176560                      Google Phone,Wired Headphones\n",
       "18    176574                  Google Phone,USB-C Charging Cable\n",
       "30    176585  Bose SoundSport Headphones,Bose SoundSport Hea...\n",
       "32    176586                AAA Batteries (4-pack),Google Phone\n",
       "119   176672      Lightning Charging Cable,USB-C Charging Cable"
      ]
     },
     "execution_count": 27,
     "metadata": {},
     "output_type": "execute_result"
    }
   ],
   "source": [
    "# Finding the Orders that customers purchased more than 1 products\n",
    "duplicated_order_id = all_data[all_data['Order ID'].duplicated(keep = False)]\n",
    "duplicated_order_id['Grouped Product'] = duplicated_order_id.groupby('Order ID')['Product'].transform(lambda x : ','.join(x))\n",
    "# dropping duplicates\n",
    "duplicated_order_id = duplicated_order_id[['Order ID', 'Grouped Product']].drop_duplicates() \n",
    "duplicated_order_id.head()"
   ]
  },
  {
   "cell_type": "code",
   "execution_count": 28,
   "metadata": {},
   "outputs": [],
   "source": [
    "from collections import Counter \n",
    "from itertools import combinations"
   ]
  },
  {
   "cell_type": "code",
   "execution_count": 29,
   "metadata": {},
   "outputs": [
    {
     "data": {
      "text/plain": [
       "[(('iPhone', 'Lightning Charging Cable'), 1005),\n",
       " (('Google Phone', 'USB-C Charging Cable'), 987),\n",
       " (('iPhone', 'Wired Headphones'), 447),\n",
       " (('Google Phone', 'Wired Headphones'), 414),\n",
       " (('Vareebadd Phone', 'USB-C Charging Cable'), 361),\n",
       " (('iPhone', 'Apple Airpods Headphones'), 360),\n",
       " (('Google Phone', 'Bose SoundSport Headphones'), 220),\n",
       " (('USB-C Charging Cable', 'Wired Headphones'), 160),\n",
       " (('Vareebadd Phone', 'Wired Headphones'), 143),\n",
       " (('Lightning Charging Cable', 'Wired Headphones'), 92)]"
      ]
     },
     "execution_count": 29,
     "metadata": {},
     "output_type": "execute_result"
    }
   ],
   "source": [
    "count = Counter()\n",
    "\n",
    "\n",
    "for row in duplicated_order_id['Grouped Product']:\n",
    "    row_list = row.split(',')\n",
    "    count.update(Counter(combinations(row_list, 2)))\n",
    "#    count.update(Counter(combinations(row_list, len(row_list)))) \n",
    "#could also be an asnwer if 3 or more elements in a list are considered \n",
    "count.most_common(10)\n"
   ]
  },
  {
   "cell_type": "markdown",
   "metadata": {},
   "source": [
    "## Q5: Which products are bestseller? Why do you think it did?"
   ]
  },
  {
   "cell_type": "code",
   "execution_count": 30,
   "metadata": {},
   "outputs": [],
   "source": [
    "# This answer is based on the code used for Q4\n",
    "#count_individual = Counter()\n",
    "\n",
    "# Original Answer from the video \n",
    "#for row in duplicated_order_id['Grouped Product']:\n",
    "#    row_list = row.split(',')\n",
    "#    count_individual.update(Counter(row_list))\n",
    "#count_individual"
   ]
  },
  {
   "cell_type": "code",
   "execution_count": 31,
   "metadata": {},
   "outputs": [
    {
     "data": {
      "text/plain": [
       "['20in Monitor',\n",
       " '27in 4K Gaming Monitor',\n",
       " '27in FHD Monitor',\n",
       " '34in Ultrawide Monitor',\n",
       " 'AA Batteries (4-pack)',\n",
       " 'AAA Batteries (4-pack)',\n",
       " 'Apple Airpods Headphones',\n",
       " 'Bose SoundSport Headphones',\n",
       " 'Flatscreen TV',\n",
       " 'Google Phone',\n",
       " 'LG Dryer',\n",
       " 'LG Washing Machine',\n",
       " 'Lightning Charging Cable',\n",
       " 'Macbook Pro Laptop',\n",
       " 'ThinkPad Laptop',\n",
       " 'USB-C Charging Cable',\n",
       " 'Vareebadd Phone',\n",
       " 'Wired Headphones',\n",
       " 'iPhone']"
      ]
     },
     "execution_count": 31,
     "metadata": {},
     "output_type": "execute_result"
    }
   ],
   "source": [
    "# This is the proper way to answer this Q\n",
    "product_sold = all_data.groupby('Product').sum()['Quantity Ordered']\n",
    "#product_sold\n",
    "# Original solution \n",
    "#product =[product for product, df in all_data.groupby('Product')]\n",
    "# better solution for listing the x-labal:\n",
    "product = product_sold.index.tolist()\n",
    "product"
   ]
  },
  {
   "cell_type": "code",
   "execution_count": 32,
   "metadata": {},
   "outputs": [
    {
     "data": {
      "image/png": "[encoded data removed]",
      "text/plain": [
       "<Figure size 432x288 with 1 Axes>"
      ]
     },
     "metadata": {
      "needs_background": "light"
     },
     "output_type": "display_data"
    }
   ],
   "source": [
    "plt.bar(product, product_sold)\n",
    "plt.xticks(product , rotation = 'vertical', size = 8)\n",
    "plt.xlabel('Product Types')\n",
    "plt.ylabel('Quantity Ordered')\n",
    "plt.show()"
   ]
  },
  {
   "cell_type": "code",
   "execution_count": 33,
   "metadata": {
    "scrolled": false
   },
   "outputs": [
    {
     "data": {
      "text/html": [
       "<div>\n",
       "<style scoped>\n",
       "    .dataframe tbody tr th:only-of-type {\n",
       "        vertical-align: middle;\n",
       "    }\n",
       "\n",
       "    .dataframe tbody tr th {\n",
       "        vertical-align: top;\n",
       "    }\n",
       "\n",
       "    .dataframe thead th {\n",
       "        text-align: right;\n",
       "    }\n",
       "</style>\n",
       "<table border=\"1\" class=\"dataframe\">\n",
       "  <thead>\n",
       "    <tr style=\"text-align: right;\">\n",
       "      <th></th>\n",
       "      <th>Order ID</th>\n",
       "      <th>Product</th>\n",
       "      <th>Quantity Ordered</th>\n",
       "      <th>Price Each</th>\n",
       "      <th>Order Date</th>\n",
       "      <th>Purchase Address</th>\n",
       "      <th>Month</th>\n",
       "      <th>Sales</th>\n",
       "      <th>City</th>\n",
       "      <th>Hour</th>\n",
       "      <th>Minute</th>\n",
       "    </tr>\n",
       "  </thead>\n",
       "  <tbody>\n",
       "    <tr>\n",
       "      <th>0</th>\n",
       "      <td>176558</td>\n",
       "      <td>USB-C Charging Cable</td>\n",
       "      <td>2</td>\n",
       "      <td>11.95</td>\n",
       "      <td>2019-04-19 08:46:00</td>\n",
       "      <td>917 1st St, Dallas, TX 75001</td>\n",
       "      <td>4</td>\n",
       "      <td>23.90</td>\n",
       "      <td>Dallas (TX)</td>\n",
       "      <td>8</td>\n",
       "      <td>46</td>\n",
       "    </tr>\n",
       "    <tr>\n",
       "      <th>2</th>\n",
       "      <td>176559</td>\n",
       "      <td>Bose SoundSport Headphones</td>\n",
       "      <td>1</td>\n",
       "      <td>99.99</td>\n",
       "      <td>2019-04-07 22:30:00</td>\n",
       "      <td>682 Chestnut St, Boston, MA 02215</td>\n",
       "      <td>4</td>\n",
       "      <td>99.99</td>\n",
       "      <td>Boston (MA)</td>\n",
       "      <td>22</td>\n",
       "      <td>30</td>\n",
       "    </tr>\n",
       "    <tr>\n",
       "      <th>3</th>\n",
       "      <td>176560</td>\n",
       "      <td>Google Phone</td>\n",
       "      <td>1</td>\n",
       "      <td>600.00</td>\n",
       "      <td>2019-04-12 14:38:00</td>\n",
       "      <td>669 Spruce St, Los Angeles, CA 90001</td>\n",
       "      <td>4</td>\n",
       "      <td>600.00</td>\n",
       "      <td>Los Angeles (CA)</td>\n",
       "      <td>14</td>\n",
       "      <td>38</td>\n",
       "    </tr>\n",
       "    <tr>\n",
       "      <th>4</th>\n",
       "      <td>176560</td>\n",
       "      <td>Wired Headphones</td>\n",
       "      <td>1</td>\n",
       "      <td>11.99</td>\n",
       "      <td>2019-04-12 14:38:00</td>\n",
       "      <td>669 Spruce St, Los Angeles, CA 90001</td>\n",
       "      <td>4</td>\n",
       "      <td>11.99</td>\n",
       "      <td>Los Angeles (CA)</td>\n",
       "      <td>14</td>\n",
       "      <td>38</td>\n",
       "    </tr>\n",
       "    <tr>\n",
       "      <th>5</th>\n",
       "      <td>176561</td>\n",
       "      <td>Wired Headphones</td>\n",
       "      <td>1</td>\n",
       "      <td>11.99</td>\n",
       "      <td>2019-04-30 09:27:00</td>\n",
       "      <td>333 8th St, Los Angeles, CA 90001</td>\n",
       "      <td>4</td>\n",
       "      <td>11.99</td>\n",
       "      <td>Los Angeles (CA)</td>\n",
       "      <td>9</td>\n",
       "      <td>27</td>\n",
       "    </tr>\n",
       "  </tbody>\n",
       "</table>\n",
       "</div>"
      ],
      "text/plain": [
       "  Order ID                     Product  Quantity Ordered  Price Each  \\\n",
       "0   176558        USB-C Charging Cable                 2       11.95   \n",
       "2   176559  Bose SoundSport Headphones                 1       99.99   \n",
       "3   176560                Google Phone                 1      600.00   \n",
       "4   176560            Wired Headphones                 1       11.99   \n",
       "5   176561            Wired Headphones                 1       11.99   \n",
       "\n",
       "           Order Date                      Purchase Address  Month   Sales  \\\n",
       "0 2019-04-19 08:46:00          917 1st St, Dallas, TX 75001      4   23.90   \n",
       "2 2019-04-07 22:30:00     682 Chestnut St, Boston, MA 02215      4   99.99   \n",
       "3 2019-04-12 14:38:00  669 Spruce St, Los Angeles, CA 90001      4  600.00   \n",
       "4 2019-04-12 14:38:00  669 Spruce St, Los Angeles, CA 90001      4   11.99   \n",
       "5 2019-04-30 09:27:00     333 8th St, Los Angeles, CA 90001      4   11.99   \n",
       "\n",
       "                City  Hour  Minute  \n",
       "0        Dallas (TX)     8      46  \n",
       "2        Boston (MA)    22      30  \n",
       "3   Los Angeles (CA)    14      38  \n",
       "4   Los Angeles (CA)    14      38  \n",
       "5   Los Angeles (CA)     9      27  "
      ]
     },
     "execution_count": 33,
     "metadata": {},
     "output_type": "execute_result"
    }
   ],
   "source": [
    "all_data.head()"
   ]
  },
  {
   "cell_type": "code",
   "execution_count": 34,
   "metadata": {},
   "outputs": [
    {
     "data": {
      "text/plain": [
       "Product\n",
       "20in Monitor                   109.99\n",
       "27in 4K Gaming Monitor         389.99\n",
       "27in FHD Monitor               149.99\n",
       "34in Ultrawide Monitor         379.99\n",
       "AA Batteries (4-pack)            3.84\n",
       "AAA Batteries (4-pack)           2.99\n",
       "Apple Airpods Headphones       150.00\n",
       "Bose SoundSport Headphones      99.99\n",
       "Flatscreen TV                  300.00\n",
       "Google Phone                   600.00\n",
       "LG Dryer                       600.00\n",
       "LG Washing Machine             600.00\n",
       "Lightning Charging Cable        14.95\n",
       "Macbook Pro Laptop            1700.00\n",
       "ThinkPad Laptop                999.99\n",
       "USB-C Charging Cable            11.95\n",
       "Vareebadd Phone                400.00\n",
       "Wired Headphones                11.99\n",
       "iPhone                         700.00\n",
       "Name: Price Each, dtype: float64"
      ]
     },
     "execution_count": 34,
     "metadata": {},
     "output_type": "execute_result"
    }
   ],
   "source": [
    "price_product = all_data.groupby('Product').mean()['Price Each']\n",
    "price_product"
   ]
  },
  {
   "cell_type": "code",
   "execution_count": 35,
   "metadata": {},
   "outputs": [
    {
     "data": {
      "image/png": "[encoded data removed]",
      "text/plain": [
       "<Figure size 432x288 with 2 Axes>"
      ]
     },
     "metadata": {
      "needs_background": "light"
     },
     "output_type": "display_data"
    }
   ],
   "source": [
    "\n",
    "fig, ax1 = plt.subplots()\n",
    "\n",
    "ax1.set_xlabel('Product Types')\n",
    "ax1.set_ylabel('Quantity Ordered' , color = 'g')\n",
    "ax1.set_xticklabels(product , rotation = 'vertical' , size = 8)\n",
    "ax1.tick_params('y', labelcolor = 'g')\n",
    "ax1.bar(product, product_sold , color = 'g')\n",
    "\n",
    "ax2 = ax1.twinx()\n",
    "ax2.set_ylabel('Price' , color = 'b')\n",
    "ax2.tick_params('y', labelcolor = 'b')\n",
    "ax2.plot(product, price_product, color = 'b')\n",
    "\n",
    "plt.show()"
   ]
  },
  {
   "cell_type": "code",
   "execution_count": 36,
   "metadata": {
    "scrolled": true
   },
   "outputs": [
    {
     "data": {
      "text/plain": [
       "array(['Order ID', 'Product', 'Quantity Ordered', 'Price Each',\n",
       "       'Order Date', 'Purchase Address', 'Month', 'Sales', 'City', 'Hour',\n",
       "       'Minute'], dtype=object)"
      ]
     },
     "execution_count": 36,
     "metadata": {},
     "output_type": "execute_result"
    }
   ],
   "source": [
    "all_data.columns.values"
   ]
  },
  {
   "cell_type": "code",
   "execution_count": null,
   "metadata": {},
   "outputs": [],
   "source": []
  },
  {
   "cell_type": "markdown",
   "metadata": {},
   "source": [
    "# Part 3: Data Staging"
   ]
  },
  {
   "cell_type": "markdown",
   "metadata": {},
   "source": [
    "## Preparing data for Data Staging to mysql"
   ]
  },
  {
   "cell_type": "markdown",
   "metadata": {},
   "source": [
    "Reordering the columns for better illustration"
   ]
  },
  {
   "cell_type": "code",
   "execution_count": 37,
   "metadata": {},
   "outputs": [],
   "source": [
    "# Saving the copy of the amended dataframe\n",
    "all_data_processed = all_data.copy()"
   ]
  },
  {
   "cell_type": "code",
   "execution_count": 38,
   "metadata": {},
   "outputs": [
    {
     "data": {
      "text/plain": [
       "array(['Order ID', 'Product', 'Quantity Ordered', 'Price Each',\n",
       "       'Order Date', 'Purchase Address', 'Month', 'Sales', 'City', 'Hour',\n",
       "       'Minute'], dtype=object)"
      ]
     },
     "execution_count": 38,
     "metadata": {},
     "output_type": "execute_result"
    }
   ],
   "source": [
    "all_data.columns.values"
   ]
  },
  {
   "cell_type": "code",
   "execution_count": 39,
   "metadata": {},
   "outputs": [],
   "source": [
    "all_data_processed = all_data_processed.rename(columns = {'Sales':'Amount'})\n",
    "columns_reordered = ['Order ID', 'Product', 'Quantity Ordered','Price Each', 'Amount',\n",
    "       'Order Date', 'Month','Hour','Minute' ,'Purchase Address','City']"
   ]
  },
  {
   "cell_type": "code",
   "execution_count": 40,
   "metadata": {},
   "outputs": [],
   "source": [
    "all_data_processed = all_data_processed[columns_reordered]"
   ]
  },
  {
   "cell_type": "code",
   "execution_count": 41,
   "metadata": {},
   "outputs": [],
   "source": [
    "all_data_processed['City'] = all_data_processed['City'].str.lstrip()"
   ]
  },
  {
   "cell_type": "code",
   "execution_count": 42,
   "metadata": {},
   "outputs": [],
   "source": [
    "all_data_processed['Purchase Address'] = all_data_processed['Purchase Address'].str.lstrip()"
   ]
  },
  {
   "cell_type": "markdown",
   "metadata": {},
   "source": [
    "### Preparing query"
   ]
  },
  {
   "cell_type": "code",
   "execution_count": 43,
   "metadata": {},
   "outputs": [],
   "source": [
    "# Query for integrating all_data_processed to the database\n",
    "insert_query = 'INSERT INTO sales_data VALUES'\n",
    "list_query = []\n",
    "for row in range(all_data_processed.shape[0]):\n",
    "    insert_query += '('\n",
    "    row_df = all_data_processed.iloc[row]\n",
    "    for col in range (all_data_processed.shape[1]):\n",
    "        col_values = row_df[col]\n",
    "        try:\n",
    "            pd.to_numeric(col_values)\n",
    "            insert_query += f\"{col_values}, \"\n",
    "        except:\n",
    "            insert_query += f\"'{col_values}', \"\n",
    "    if row%20 == 0 and (row!= all_data_processed.shape[0]-1 and row!= 0):\n",
    "        insert_query = insert_query[:-2] +\")\"\n",
    "        list_query.append(insert_query)\n",
    "        insert_query = 'INSERT INTO sales_data VALUES' \n",
    "    else:\n",
    "        insert_query = insert_query[:-2] +\"),\"\n",
    "insert_query = insert_query[:-2] +\");\"\n",
    "list_query.append(insert_query)"
   ]
  },
  {
   "cell_type": "code",
   "execution_count": 44,
   "metadata": {},
   "outputs": [
    {
     "name": "stdout",
     "output_type": "stream",
     "text": [
      "INSERT INTO duplicate_order_id VALUES('(''iPhone'', ''Lightning Charging Cable'')',1005),('(''Google Phone'', ''USB-C Charging Cable'')',987),('(''iPhone'', ''Wired Headphones'')',447),('(''Google Phone'', ''Wired Headphones'')',414),('(''Vareebadd Phone'', ''USB-C Charging Cable'')',361),('(''iPhone'', ''Apple Airpods Headphones'')',360),('(''Google Phone'', ''Bose SoundSport Headphones'')',220),('(''USB-C Charging Cable'', ''Wired Headphones'')',160),('(''Vareebadd Phone'', ''Wired Headphones'')',143),('(''Lightning Charging Cable'', ''Wired Headphones'')',92),('(''Lightning Charging Cable'', ''Apple Airpods Headphones'')',81),('(''Vareebadd Phone'', ''Bose SoundSport Headphones'')',80),('(''USB-C Charging Cable'', ''Bose SoundSport Headphones'')',77),('(''Apple Airpods Headphones'', ''Wired Headphones'')',69),('(''Lightning Charging Cable'', ''USB-C Charging Cable'')',58),('(''Lightning Charging Cable'', ''AA Batteries (4-pack)'')',55),('(''Lightning Charging Cable'', ''Lightning Charging Cable'')',54),('(''Bose SoundSport Headphones'', ''Wired Headphones'')',53),('(''AA Batteries (4-pack)'', ''Lightning Charging Cable'')',51),('(''AAA Batteries (4-pack)'', ''USB-C Charging Cable'')',50),('(''Apple Airpods Headphones'', ''AAA Batteries (4-pack)'')',48),('(''AA Batteries (4-pack)'', ''AAA Batteries (4-pack)'')',48),('(''USB-C Charging Cable'', ''USB-C Charging Cable'')',48),('(''AAA Batteries (4-pack)'', ''AAA Batteries (4-pack)'')',48),('(''USB-C Charging Cable'', ''AAA Batteries (4-pack)'')',45),('(''Wired Headphones'', ''USB-C Charging Cable'')',45),('(''AA Batteries (4-pack)'', ''Wired Headphones'')',44),('(''AAA Batteries (4-pack)'', ''Lightning Charging Cable'')',44),('(''AAA Batteries (4-pack)'', ''Wired Headphones'')',43),('(''Wired Headphones'', ''AAA Batteries (4-pack)'')',43),('(''USB-C Charging Cable'', ''Lightning Charging Cable'')',42),('(''AA Batteries (4-pack)'', ''Apple Airpods Headphones'')',41),('(''AAA Batteries (4-pack)'', ''AA Batteries (4-pack)'')',39),('(''Wired Headphones'', ''AA Batteries (4-pack)'')',39),('(''Lightning Charging Cable'', ''Bose SoundSport Headphones'')',39),('(''USB-C Charging Cable'', ''AA Batteries (4-pack)'')',38),('(''Bose SoundSport Headphones'', ''AAA Batteries (4-pack)'')',37),('(''AA Batteries (4-pack)'', ''USB-C Charging Cable'')',37),('(''Wired Headphones'', ''Lightning Charging Cable'')',37),('(''Lightning Charging Cable'', ''AAA Batteries (4-pack)'')',36),('(''Apple Airpods Headphones'', ''Lightning Charging Cable'')',35),('(''Wired Headphones'', ''Wired Headphones'')',35),('(''AA Batteries (4-pack)'', ''AA Batteries (4-pack)'')',35),('(''USB-C Charging Cable'', ''Apple Airpods Headphones'')',34),('(''Bose SoundSport Headphones'', ''Lightning Charging Cable'')',33),('(''AAA Batteries (4-pack)'', ''Apple Airpods Headphones'')',33),('(''Apple Airpods Headphones'', ''Bose SoundSport Headphones'')',32),('(''Wired Headphones'', ''Apple Airpods Headphones'')',31),('(''USB-C Charging Cable'', ''27in FHD Monitor'')',31),('(''Apple Airpods Headphones'', ''USB-C Charging Cable'')',29),('(''Apple Airpods Headphones'', ''AA Batteries (4-pack)'')',29),('(''AA Batteries (4-pack)'', ''Bose SoundSport Headphones'')',28),('(''Bose SoundSport Headphones'', ''Bose SoundSport Headphones'')',27),('(''Bose SoundSport Headphones'', ''AA Batteries (4-pack)'')',27),('(''Bose SoundSport Headphones'', ''USB-C Charging Cable'')',25),('(''Apple Airpods Headphones'', ''Apple Airpods Headphones'')',24),('(''AAA Batteries (4-pack)'', ''27in FHD Monitor'')',22),('(''27in FHD Monitor'', ''AAA Batteries (4-pack)'')',21),('(''Wired Headphones'', ''Bose SoundSport Headphones'')',21),('(''AAA Batteries (4-pack)'', ''Bose SoundSport Headphones'')',20),('(''34in Ultrawide Monitor'', ''AA Batteries (4-pack)'')',19),('(''Lightning Charging Cable'', ''27in 4K Gaming Monitor'')',18),('(''AA Batteries (4-pack)'', ''iPhone'')',18),('(''27in FHD Monitor'', ''Lightning Charging Cable'')',18),('(''Lightning Charging Cable'', ''27in FHD Monitor'')',18),('(''34in Ultrawide Monitor'', ''Lightning Charging Cable'')',18),('(''Wired Headphones'', ''27in 4K Gaming Monitor'')',18),('(''Bose SoundSport Headphones'', ''Apple Airpods Headphones'')',18),('(''iPhone'', ''AAA Batteries (4-pack)'')',17),('(''Wired Headphones'', ''34in Ultrawide Monitor'')',17),('(''ThinkPad Laptop'', ''AAA Batteries (4-pack)'')',16),('(''Lightning Charging Cable'', ''Google Phone'')',16),('(''27in 4K Gaming Monitor'', ''Lightning Charging Cable'')',16),('(''34in Ultrawide Monitor'', ''USB-C Charging Cable'')',15),('(''27in FHD Monitor'', ''AA Batteries (4-pack)'')',15),('(''Wired Headphones'', ''iPhone'')',15),('(''AAA Batteries (4-pack)'', ''27in 4K Gaming Monitor'')',15),('(''iPhone'', ''USB-C Charging Cable'')',15),('(''20in Monitor'', ''USB-C Charging Cable'')',15),('(''Lightning Charging Cable'', ''20in Monitor'')',15),('(''27in 4K Gaming Monitor'', ''AAA Batteries (4-pack)'')',15),('(''Lightning Charging Cable'', ''34in Ultrawide Monitor'')',15),('(''Google Phone'', ''AA Batteries (4-pack)'')',14),('(''Apple Airpods Headphones'', ''Google Phone'')',14),('(''USB-C Charging Cable'', ''iPhone'')',14),('(''Bose SoundSport Headphones'', ''27in FHD Monitor'')',14),('(''AA Batteries (4-pack)'', ''27in 4K Gaming Monitor'')',14),('(''AAA Batteries (4-pack)'', ''iPhone'')',14),('(''iPhone'', ''AA Batteries (4-pack)'')',14),('(''AA Batteries (4-pack)'', ''Flatscreen TV'')',13),('(''AA Batteries (4-pack)'', ''34in Ultrawide Monitor'')',13),('(''AAA Batteries (4-pack)'', ''34in Ultrawide Monitor'')',13),('(''Apple Airpods Headphones'', ''iPhone'')',13),('(''Wired Headphones'', ''Macbook Pro Laptop'')',13),('(''Apple Airpods Headphones'', ''27in 4K Gaming Monitor'')',12),('(''Apple Airpods Headphones'', ''27in FHD Monitor'')',12),('(''27in FHD Monitor'', ''Bose SoundSport Headphones'')',12),('(''27in FHD Monitor'', ''USB-C Charging Cable'')',12),('(''Google Phone'', ''Lightning Charging Cable'')',12),('(''Apple Airpods Headphones'', ''Macbook Pro Laptop'')',12),('(''27in 4K Gaming Monitor'', ''USB-C Charging Cable'')',12),('(''Macbook Pro Laptop'', ''USB-C Charging Cable'')',12),('(''Wired Headphones'', ''27in FHD Monitor'')',12),('(''20in Monitor'', ''Wired Headphones'')',12),('(''Lightning Charging Cable'', ''Flatscreen TV'')',12),('(''27in FHD Monitor'', ''Apple Airpods Headphones'')',12),('(''USB-C Charging Cable'', ''Google Phone'')',12),('(''27in 4K Gaming Monitor'', ''AA Batteries (4-pack)'')',12),('(''34in Ultrawide Monitor'', ''AAA Batteries (4-pack)'')',12),('(''AAA Batteries (4-pack)'', ''Google Phone'')',11),('(''AAA Batteries (4-pack)'', ''Macbook Pro Laptop'')',11),('(''USB-C Charging Cable'', ''27in 4K Gaming Monitor'')',11),('(''USB-C Charging Cable'', ''ThinkPad Laptop'')',11),('(''34in Ultrawide Monitor'', ''Wired Headphones'')',11),('(''20in Monitor'', ''Lightning Charging Cable'')',11),('(''AA Batteries (4-pack)'', ''27in FHD Monitor'')',11),('(''Bose SoundSport Headphones'', ''34in Ultrawide Monitor'')',11),('(''ThinkPad Laptop'', ''Lightning Charging Cable'')',11),('(''Google Phone'', ''AAA Batteries (4-pack)'')',11),('(''USB-C Charging Cable'', ''34in Ultrawide Monitor'')',11),('(''Macbook Pro Laptop'', ''Lightning Charging Cable'')',11),('(''AA Batteries (4-pack)'', ''Google Phone'')',11),('(''AAA Batteries (4-pack)'', ''ThinkPad Laptop'')',11),('(''Macbook Pro Laptop'', ''Bose SoundSport Headphones'')',11),('(''27in 4K Gaming Monitor'', ''Wired Headphones'')',11),('(''Flatscreen TV'', ''AAA Batteries (4-pack)'')',11),('(''Flatscreen TV'', ''Lightning Charging Cable'')',10),('(''Wired Headphones'', ''ThinkPad Laptop'')',10),('(''USB-C Charging Cable'', ''20in Monitor'')',10),('(''27in 4K Gaming Monitor'', ''Apple Airpods Headphones'')',10),('(''USB-C Charging Cable'', ''Flatscreen TV'')',10),('(''27in FHD Monitor'', ''Wired Headphones'')',10),('(''AA Batteries (4-pack)'', ''20in Monitor'')',10),('(''AAA Batteries (4-pack)'', ''Flatscreen TV'')',10),('(''Lightning Charging Cable'', ''iPhone'')',10),('(''Bose SoundSport Headphones'', ''Flatscreen TV'')',10),('(''Lightning Charging Cable'', ''Macbook Pro Laptop'')',10),('(''Bose SoundSport Headphones'', ''27in 4K Gaming Monitor'')',10),('(''Apple Airpods Headphones'', ''ThinkPad Laptop'')',9),('(''Wired Headphones'', ''Google Phone'')',9),('(''27in 4K Gaming Monitor'', ''Bose SoundSport Headphones'')',9),('(''20in Monitor'', ''Bose SoundSport Headphones'')',9),('(''Macbook Pro Laptop'', ''AA Batteries (4-pack)'')',9),('(''ThinkPad Laptop'', ''USB-C Charging Cable'')',9),('(''ThinkPad Laptop'', ''Bose SoundSport Headphones'')',9),('(''Vareebadd Phone'', ''AA Batteries (4-pack)'')',9),('(''USB-C Charging Cable'', ''Macbook Pro Laptop'')',9),('(''27in FHD Monitor'', ''27in FHD Monitor'')',9),('(''AA Batteries (4-pack)'', ''ThinkPad Laptop'')',9),('(''Lightning Charging Cable'', ''ThinkPad Laptop'')',9),('(''AA Batteries (4-pack)'', ''Macbook Pro Laptop'')',8),('(''Flatscreen TV'', ''AA Batteries (4-pack)'')',8),('(''Apple Airpods Headphones'', ''Flatscreen TV'')',8),('(''ThinkPad Laptop'', ''AA Batteries (4-pack)'')',8),('(''AAA Batteries (4-pack)'', ''20in Monitor'')',8),('(''34in Ultrawide Monitor'', ''Apple Airpods Headphones'')',8),('(''Bose SoundSport Headphones'', ''Google Phone'')',8),('(''20in Monitor'', ''Apple Airpods Headphones'')',7),('(''Macbook Pro Laptop'', ''Apple Airpods Headphones'')',7),('(''Wired Headphones'', ''Flatscreen TV'')',7),('(''Wired Headphones'', ''20in Monitor'')',7),('(''Macbook Pro Laptop'', ''Wired Headphones'')',7),('(''USB-C Charging Cable'', ''Vareebadd Phone'')',7),('(''Google Phone'', ''27in FHD Monitor'')',7),('(''Macbook Pro Laptop'', ''AAA Batteries (4-pack)'')',7),('(''34in Ultrawide Monitor'', ''iPhone'')',7),('(''34in Ultrawide Monitor'', ''34in Ultrawide Monitor'')',7),('(''Flatscreen TV'', ''USB-C Charging Cable'')',7),('(''Bose SoundSport Headphones'', ''iPhone'')',7),('(''ThinkPad Laptop'', ''Apple Airpods Headphones'')',7),('(''Google Phone'', ''Apple Airpods Headphones'')',7),('(''Macbook Pro Laptop'', ''27in 4K Gaming Monitor'')',7),('(''iPhone'', ''27in 4K Gaming Monitor'')',6),('(''Flatscreen TV'', ''Flatscreen TV'')',6),('(''Apple Airpods Headphones'', ''34in Ultrawide Monitor'')',6),('(''iPhone'', ''34in Ultrawide Monitor'')',6),('(''Vareebadd Phone'', ''Apple Airpods Headphones'')',6),('(''27in 4K Gaming Monitor'', ''34in Ultrawide Monitor'')',6),('(''27in 4K Gaming Monitor'', ''Macbook Pro Laptop'')',6),('(''Bose SoundSport Headphones'', ''20in Monitor'')',6),('(''iPhone'', ''Flatscreen TV'')',6),('(''Apple Airpods Headphones'', ''20in Monitor'')',6),('(''Apple Airpods Headphones'', ''Vareebadd Phone'')',6),('(''Wired Headphones'', ''Vareebadd Phone'')',6),('(''34in Ultrawide Monitor'', ''Bose SoundSport Headphones'')',6),('(''Google Phone'', ''iPhone'')',6),('(''27in FHD Monitor'', ''Macbook Pro Laptop'')',6),('(''20in Monitor'', ''AA Batteries (4-pack)'')',6),('(''iPhone'', ''Bose SoundSport Headphones'')',5),('(''27in 4K Gaming Monitor'', ''27in 4K Gaming Monitor'')',5),('(''Flatscreen TV'', ''34in Ultrawide Monitor'')',5),('(''27in 4K Gaming Monitor'', ''Google Phone'')',5),('(''27in FHD Monitor'', ''34in Ultrawide Monitor'')',5),('(''Flatscreen TV'', ''Apple Airpods Headphones'')',5),('(''34in Ultrawide Monitor'', ''27in FHD Monitor'')',5),('(''Macbook Pro Laptop'', ''34in Ultrawide Monitor'')',4),('(''iPhone'', ''Vareebadd Phone'')',4),('(''Bose SoundSport Headphones'', ''ThinkPad Laptop'')',4),('(''20in Monitor'', ''Macbook Pro Laptop'')',4),('(''Vareebadd Phone'', ''34in Ultrawide Monitor'')',4),('(''Flatscreen TV'', ''Wired Headphones'')',4),('(''Flatscreen TV'', ''27in FHD Monitor'')',4),('(''LG Dryer'', ''AA Batteries (4-pack)'')',4),('(''Flatscreen TV'', ''Macbook Pro Laptop'')',4),('(''27in FHD Monitor'', ''27in 4K Gaming Monitor'')',4),('(''ThinkPad Laptop'', ''Flatscreen TV'')',4),('(''Flatscreen TV'', ''iPhone'')',4),('(''27in 4K Gaming Monitor'', ''ThinkPad Laptop'')',4),('(''Vareebadd Phone'', ''Google Phone'')',4),('(''Macbook Pro Laptop'', ''Google Phone'')',4),('(''27in 4K Gaming Monitor'', ''27in FHD Monitor'')',4),('(''Lightning Charging Cable'', ''LG Washing Machine'')',4),('(''27in FHD Monitor'', ''ThinkPad Laptop'')',4),('(''ThinkPad Laptop'', ''Wired Headphones'')',4),('(''iPhone'', ''ThinkPad Laptop'')',4),('(''Bose SoundSport Headphones'', ''Macbook Pro Laptop'')',4),('(''AAA Batteries (4-pack)'', ''Vareebadd Phone'')',4),('(''LG Washing Machine'', ''AAA Batteries (4-pack)'')',4),('(''Macbook Pro Laptop'', ''ThinkPad Laptop'')',3),('(''ThinkPad Laptop'', ''Google Phone'')',3),('(''34in Ultrawide Monitor'', ''Macbook Pro Laptop'')',3),('(''Lightning Charging Cable'', ''Vareebadd Phone'')',3),('(''Google Phone'', ''ThinkPad Laptop'')',3),('(''20in Monitor'', ''20in Monitor'')',3),('(''ThinkPad Laptop'', ''iPhone'')',3),('(''Vareebadd Phone'', ''Flatscreen TV'')',3),('(''34in Ultrawide Monitor'', ''Flatscreen TV'')',3),('(''Macbook Pro Laptop'', ''Macbook Pro Laptop'')',3),('(''34in Ultrawide Monitor'', ''ThinkPad Laptop'')',3),('(''Macbook Pro Laptop'', ''iPhone'')',3),('(''Vareebadd Phone'', ''iPhone'')',3),('(''Wired Headphones'', ''LG Washing Machine'')',3),('(''Google Phone'', ''34in Ultrawide Monitor'')',3),('(''Macbook Pro Laptop'', ''27in FHD Monitor'')',3),('(''Flatscreen TV'', ''Bose SoundSport Headphones'')',3),('(''AA Batteries (4-pack)'', ''Vareebadd Phone'')',3),('(''27in FHD Monitor'', ''20in Monitor'')',3),('(''iPhone'', ''Google Phone'')',3),('(''27in 4K Gaming Monitor'', ''iPhone'')',3),('(''Google Phone'', ''Google Phone'')',3),('(''Flatscreen TV'', ''Google Phone'')',3),('(''Google Phone'', ''Macbook Pro Laptop'')',3),('(''27in 4K Gaming Monitor'', ''Flatscreen TV'')',3),('(''Apple Airpods Headphones'', ''LG Dryer'')',3),('(''20in Monitor'', ''AAA Batteries (4-pack)'')',3),('(''iPhone'', ''Macbook Pro Laptop'')',3),('(''34in Ultrawide Monitor'', ''Google Phone'')',2),('(''Macbook Pro Laptop'', ''20in Monitor'')',2),('(''Lightning Charging Cable'', ''LG Dryer'')',2),('(''Flatscreen TV'', ''27in 4K Gaming Monitor'')',2),('(''ThinkPad Laptop'', ''Macbook Pro Laptop'')',2),('(''Macbook Pro Laptop'', ''LG Washing Machine'')',2),('(''20in Monitor'', ''27in FHD Monitor'')',2),('(''ThinkPad Laptop'', ''ThinkPad Laptop'')',2),('(''Bose SoundSport Headphones'', ''Vareebadd Phone'')',2),('(''Vareebadd Phone'', ''ThinkPad Laptop'')',2),('(''20in Monitor'', ''ThinkPad Laptop'')',2),('(''iPhone'', ''iPhone'')',2),('(''27in FHD Monitor'', ''LG Dryer'')',2),('(''Vareebadd Phone'', ''27in 4K Gaming Monitor'')',2),('(''27in 4K Gaming Monitor'', ''20in Monitor'')',2),('(''LG Washing Machine'', ''Lightning Charging Cable'')',2),('(''LG Washing Machine'', ''Bose SoundSport Headphones'')',2),('(''AA Batteries (4-pack)'', ''LG Dryer'')',2),('(''Vareebadd Phone'', ''AAA Batteries (4-pack)'')',2),('(''iPhone'', ''20in Monitor'')',2),('(''20in Monitor'', ''Google Phone'')',2),('(''Flatscreen TV'', ''ThinkPad Laptop'')',2),('(''ThinkPad Laptop'', ''27in FHD Monitor'')',2),('(''27in FHD Monitor'', ''Flatscreen TV'')',2),('(''Google Phone'', ''20in Monitor'')',2),('(''27in 4K Gaming Monitor'', ''Vareebadd Phone'')',1),('(''27in FHD Monitor'', ''iPhone'')',1),('(''Vareebadd Phone'', ''Lightning Charging Cable'')',1),('(''Google Phone'', ''Vareebadd Phone'')',1),('(''20in Monitor'', ''iPhone'')',1),('(''LG Dryer'', ''Vareebadd Phone'')',1),('(''Macbook Pro Laptop'', ''Flatscreen TV'')',1),('(''ThinkPad Laptop'', ''Vareebadd Phone'')',1),('(''Google Phone'', ''Flatscreen TV'')',1),('(''LG Washing Machine'', ''Google Phone'')',1),('(''LG Washing Machine'', ''Wired Headphones'')',1),('(''LG Dryer'', ''Flatscreen TV'')',1),('(''27in FHD Monitor'', ''LG Washing Machine'')',1),('(''LG Dryer'', ''27in FHD Monitor'')',1),('(''20in Monitor'', ''34in Ultrawide Monitor'')',1),('(''34in Ultrawide Monitor'', ''20in Monitor'')',1),('(''34in Ultrawide Monitor'', ''LG Washing Machine'')',1),('(''Google Phone'', ''27in 4K Gaming Monitor'')',1),('(''LG Washing Machine'', ''iPhone'')',1),('(''LG Dryer'', ''Wired Headphones'')',1),('(''27in FHD Monitor'', ''Vareebadd Phone'')',1),('(''LG Washing Machine'', ''27in 4K Gaming Monitor'')',1),('(''LG Washing Machine'', ''Apple Airpods Headphones'')',1),('(''27in 4K Gaming Monitor'', ''LG Dryer'')',1),('(''20in Monitor'', ''LG Washing Machine'')',1),('(''LG Dryer'', ''Google Phone'')',1),('(''Vareebadd Phone'', ''27in FHD Monitor'')',1),('(''ThinkPad Laptop'', ''27in 4K Gaming Monitor'')',1),('(''20in Monitor'', ''Flatscreen TV'')',1),('(''USB-C Charging Cable'', ''LG Dryer'')',1),('(''LG Washing Machine'', ''20in Monitor'')',1),('(''Flatscreen TV'', ''20in Monitor'')',1),('(''27in FHD Monitor'', ''Google Phone'')',1),('(''iPhone'', ''27in FHD Monitor'')',1),('(''LG Dryer'', ''AAA Batteries (4-pack)'')',1),('(''ThinkPad Laptop'', ''34in Ultrawide Monitor'')',1),('(''iPhone'', ''LG Washing Machine'')',1),('(''AAA Batteries (4-pack)'', ''LG Dryer'')',1),('(''LG Dryer'', ''27in 4K Gaming Monitor'')',1),('(''LG Dryer'', ''Lightning Charging Cable'')',1),('(''ThinkPad Laptop'', ''LG Dryer'')',1),('(''LG Washing Machine'', ''AA Batteries (4-pack)'')',1);\n"
     ]
    }
   ],
   "source": [
    "def add_special_char():\n",
    "    new_string = str(key)\n",
    "    x=0\n",
    "    while( x!=len(new_string)):\n",
    "        if new_string[x] == \"'\":\n",
    "            new_string = new_string[:x] + \"'\" + new_string[x:]\n",
    "            x+=2\n",
    "        x+=1\n",
    "    return(new_string)\n",
    "\n",
    "\n",
    "insert_query_duplicate_order_id_processed = 'INSERT INTO duplicate_order_id VALUES'\n",
    "for key, value in count.most_common():\n",
    "    key = add_special_char()\n",
    "    insert_query_duplicate_order_id_processed += '('\n",
    "    insert_query_duplicate_order_id_processed += f\"'{str(key)}',{value}\"\n",
    "    insert_query_duplicate_order_id_processed += '),'\n",
    "insert_query_duplicate_order_id_processed = insert_query_duplicate_order_id_processed[:-1] + ';'\n",
    "print(insert_query_duplicate_order_id_processed)"
   ]
  },
  {
   "cell_type": "markdown",
   "metadata": {},
   "source": [
    "## Exporting the processed data to mysql"
   ]
  },
  {
   "cell_type": "markdown",
   "metadata": {},
   "source": [
    "### Importing necessary library"
   ]
  },
  {
   "cell_type": "code",
   "execution_count": 45,
   "metadata": {},
   "outputs": [],
   "source": [
    "import pymysql"
   ]
  },
  {
   "cell_type": "code",
   "execution_count": 46,
   "metadata": {
    "scrolled": true
   },
   "outputs": [
    {
     "data": {
      "text/plain": [
       "1371"
      ]
     },
     "execution_count": 46,
     "metadata": {},
     "output_type": "execute_result"
    }
   ],
   "source": [
    "import sys\n",
    "sys.getsizeof(insert_query)"
   ]
  },
  {
   "cell_type": "code",
   "execution_count": 47,
   "metadata": {},
   "outputs": [],
   "source": [
    "conn = pymysql.connect(database = 'Sales_Analysis', user = 'root', password = '123123123', max_allowed_packet='24MB')\n",
    "cursor = conn.cursor()"
   ]
  },
  {
   "cell_type": "code",
   "execution_count": 48,
   "metadata": {
    "scrolled": true
   },
   "outputs": [
    {
     "data": {
      "text/plain": [
       "True"
      ]
     },
     "execution_count": 48,
     "metadata": {},
     "output_type": "execute_result"
    }
   ],
   "source": [
    "#checking whether it is sucessfully connected to the database\n",
    "conn.open"
   ]
  },
  {
   "cell_type": "code",
   "execution_count": 49,
   "metadata": {},
   "outputs": [],
   "source": [
    "# inserting all_data_processed to the database\n",
    "for x in range(len(list_query)):\n",
    "    cursor.execute(list_query[x])"
   ]
  },
  {
   "cell_type": "code",
   "execution_count": 50,
   "metadata": {},
   "outputs": [
    {
     "data": {
      "text/plain": [
       "313"
      ]
     },
     "execution_count": 50,
     "metadata": {},
     "output_type": "execute_result"
    }
   ],
   "source": [
    "# inserting duplicate_order_id_processed to the database\n",
    "cursor.execute(insert_query_duplicate_order_id_processed)"
   ]
  },
  {
   "cell_type": "code",
   "execution_count": 51,
   "metadata": {},
   "outputs": [],
   "source": [
    "conn.commit()\n",
    "conn.close()"
   ]
  },
  {
   "cell_type": "code",
   "execution_count": 52,
   "metadata": {
    "scrolled": true
   },
   "outputs": [
    {
     "data": {
      "text/plain": [
       "185950"
      ]
     },
     "execution_count": 52,
     "metadata": {},
     "output_type": "execute_result"
    }
   ],
   "source": [
    "#checking whether the number of rows in database matches the rows in df\n",
    "len(all_data_processed)"
   ]
  },
  {
   "cell_type": "markdown",
   "metadata": {},
   "source": [
    "## Save as csv file and further analyze in Tableau"
   ]
  },
  {
   "cell_type": "code",
   "execution_count": 53,
   "metadata": {},
   "outputs": [],
   "source": [
    "all_data_processed.to_csv('Sales_data_preprocessed.csv')"
   ]
  }
 ],
 "metadata": {
  "kernelspec": {
   "display_name": "Python 3",
   "language": "python",
   "name": "python3"
  },
  "language_info": {
   "codemirror_mode": {
    "name": "ipython",
    "version": 3
   },
   "file_extension": ".py",
   "mimetype": "text/x-python",
   "name": "python",
   "nbconvert_exporter": "python",
   "pygments_lexer": "ipython3",
   "version": "3.7.3"
  }
 },
 "nbformat": 4,
 "nbformat_minor": 2
}
